{
 "cells": [
  {
   "cell_type": "code",
   "execution_count": 6,
   "id": "3bfd62c7-192b-4dad-a2e8-d62a6d11e488",
   "metadata": {},
   "outputs": [],
   "source": [
    "import urllib.request\n",
    "import pandas as pd # pd wird als \"alias\" für Pandas definiert"
   ]
  },
  {
   "cell_type": "code",
   "execution_count": 7,
   "id": "2d559a3a-0364-4cd9-aa4d-8a4508f4f2d5",
   "metadata": {},
   "outputs": [],
   "source": [
    "source_url = \"ftp://ftp.ncbi.nlm.nih.gov/genomes/refseq/bacteria/Escherichia_coli/reference/GCF_000005845.2_ASM584v2/GCF_000005845.2_ASM584v2_genomic.gff.gz\"\n",
    "gff_file = \"E_coli.gff.gz\""
   ]
  },
  {
   "cell_type": "code",
   "execution_count": 8,
   "id": "1e2009e6-c4f6-4928-9af9-d2fe10c00451",
   "metadata": {},
   "outputs": [
    {
     "data": {
      "text/plain": [
       "('E_coli.gff.gz', <email.message.Message at 0x144208530>)"
      ]
     },
     "execution_count": 8,
     "metadata": {},
     "output_type": "execute_result"
    }
   ],
   "source": [
    "urllib.request.urlretrieve(source_url, gff_file)"
   ]
  },
  {
   "cell_type": "code",
   "execution_count": 9,
   "id": "69b9aac8-59f5-403a-928f-39a2a2264fc9",
   "metadata": {},
   "outputs": [],
   "source": [
    "gff_data = pd.read_csv(gff_file, sep=\"\\t\", comment=\"#\", \n",
    "                       names=[\"seqid\", \"source\", \"type\", \n",
    "                              \"start\", \"end\", \"score\", \n",
    "                              \"strand\", \"phase\", \"attributes\"])"
   ]
  },
  {
   "cell_type": "code",
   "execution_count": 10,
   "id": "c0709103-91ac-4668-8f0c-19dbfce8516c",
   "metadata": {},
   "outputs": [
    {
     "data": {
      "text/html": [
       "<div>\n",
       "<style scoped>\n",
       "    .dataframe tbody tr th:only-of-type {\n",
       "        vertical-align: middle;\n",
       "    }\n",
       "\n",
       "    .dataframe tbody tr th {\n",
       "        vertical-align: top;\n",
       "    }\n",
       "\n",
       "    .dataframe thead th {\n",
       "        text-align: right;\n",
       "    }\n",
       "</style>\n",
       "<table border=\"1\" class=\"dataframe\">\n",
       "  <thead>\n",
       "    <tr style=\"text-align: right;\">\n",
       "      <th></th>\n",
       "      <th>seqid</th>\n",
       "      <th>source</th>\n",
       "      <th>type</th>\n",
       "      <th>start</th>\n",
       "      <th>end</th>\n",
       "      <th>score</th>\n",
       "      <th>strand</th>\n",
       "      <th>phase</th>\n",
       "      <th>attributes</th>\n",
       "    </tr>\n",
       "  </thead>\n",
       "  <tbody>\n",
       "    <tr>\n",
       "      <th>0</th>\n",
       "      <td>NC_000913.3</td>\n",
       "      <td>RefSeq</td>\n",
       "      <td>region</td>\n",
       "      <td>1</td>\n",
       "      <td>4641652</td>\n",
       "      <td>.</td>\n",
       "      <td>+</td>\n",
       "      <td>.</td>\n",
       "      <td>ID=NC_000913.3:1..4641652;Dbxref=taxon:511145;...</td>\n",
       "    </tr>\n",
       "    <tr>\n",
       "      <th>1</th>\n",
       "      <td>NC_000913.3</td>\n",
       "      <td>RefSeq</td>\n",
       "      <td>gene</td>\n",
       "      <td>190</td>\n",
       "      <td>255</td>\n",
       "      <td>.</td>\n",
       "      <td>+</td>\n",
       "      <td>.</td>\n",
       "      <td>ID=gene-b0001;Dbxref=ASAP:ABE-0000006,ECOCYC:E...</td>\n",
       "    </tr>\n",
       "    <tr>\n",
       "      <th>2</th>\n",
       "      <td>NC_000913.3</td>\n",
       "      <td>RefSeq</td>\n",
       "      <td>CDS</td>\n",
       "      <td>190</td>\n",
       "      <td>255</td>\n",
       "      <td>.</td>\n",
       "      <td>+</td>\n",
       "      <td>0</td>\n",
       "      <td>ID=cds-NP_414542.1;Parent=gene-b0001;Dbxref=Un...</td>\n",
       "    </tr>\n",
       "    <tr>\n",
       "      <th>3</th>\n",
       "      <td>NC_000913.3</td>\n",
       "      <td>RefSeq</td>\n",
       "      <td>gene</td>\n",
       "      <td>337</td>\n",
       "      <td>2799</td>\n",
       "      <td>.</td>\n",
       "      <td>+</td>\n",
       "      <td>.</td>\n",
       "      <td>ID=gene-b0002;Dbxref=ASAP:ABE-0000008,ECOCYC:E...</td>\n",
       "    </tr>\n",
       "    <tr>\n",
       "      <th>4</th>\n",
       "      <td>NC_000913.3</td>\n",
       "      <td>RefSeq</td>\n",
       "      <td>CDS</td>\n",
       "      <td>337</td>\n",
       "      <td>2799</td>\n",
       "      <td>.</td>\n",
       "      <td>+</td>\n",
       "      <td>0</td>\n",
       "      <td>ID=cds-NP_414543.1;Parent=gene-b0002;Dbxref=Un...</td>\n",
       "    </tr>\n",
       "    <tr>\n",
       "      <th>...</th>\n",
       "      <td>...</td>\n",
       "      <td>...</td>\n",
       "      <td>...</td>\n",
       "      <td>...</td>\n",
       "      <td>...</td>\n",
       "      <td>...</td>\n",
       "      <td>...</td>\n",
       "      <td>...</td>\n",
       "      <td>...</td>\n",
       "    </tr>\n",
       "    <tr>\n",
       "      <th>9485</th>\n",
       "      <td>NC_000913.3</td>\n",
       "      <td>RefSeq</td>\n",
       "      <td>CDS</td>\n",
       "      <td>4640402</td>\n",
       "      <td>4640542</td>\n",
       "      <td>.</td>\n",
       "      <td>+</td>\n",
       "      <td>0</td>\n",
       "      <td>ID=cds-NP_418819.1;Parent=gene-b4402;Dbxref=Un...</td>\n",
       "    </tr>\n",
       "    <tr>\n",
       "      <th>9486</th>\n",
       "      <td>NC_000913.3</td>\n",
       "      <td>RefSeq</td>\n",
       "      <td>gene</td>\n",
       "      <td>4640718</td>\n",
       "      <td>4640771</td>\n",
       "      <td>.</td>\n",
       "      <td>+</td>\n",
       "      <td>.</td>\n",
       "      <td>ID=gene-b4824;Dbxref=ECOCYC:G0-17098,GeneID:71...</td>\n",
       "    </tr>\n",
       "    <tr>\n",
       "      <th>9487</th>\n",
       "      <td>NC_000913.3</td>\n",
       "      <td>RefSeq</td>\n",
       "      <td>CDS</td>\n",
       "      <td>4640718</td>\n",
       "      <td>4640771</td>\n",
       "      <td>.</td>\n",
       "      <td>+</td>\n",
       "      <td>0</td>\n",
       "      <td>ID=cds-YP_010283921.1;Parent=gene-b4824;Dbxref...</td>\n",
       "    </tr>\n",
       "    <tr>\n",
       "      <th>9488</th>\n",
       "      <td>NC_000913.3</td>\n",
       "      <td>RefSeq</td>\n",
       "      <td>gene</td>\n",
       "      <td>4640942</td>\n",
       "      <td>4641628</td>\n",
       "      <td>.</td>\n",
       "      <td>+</td>\n",
       "      <td>.</td>\n",
       "      <td>ID=gene-b4403;Dbxref=ASAP:ABE-0014442,ECOCYC:E...</td>\n",
       "    </tr>\n",
       "    <tr>\n",
       "      <th>9489</th>\n",
       "      <td>NC_000913.3</td>\n",
       "      <td>RefSeq</td>\n",
       "      <td>CDS</td>\n",
       "      <td>4640942</td>\n",
       "      <td>4641628</td>\n",
       "      <td>.</td>\n",
       "      <td>+</td>\n",
       "      <td>0</td>\n",
       "      <td>ID=cds-NP_418820.1;Parent=gene-b4403;Dbxref=Un...</td>\n",
       "    </tr>\n",
       "  </tbody>\n",
       "</table>\n",
       "<p>9490 rows × 9 columns</p>\n",
       "</div>"
      ],
      "text/plain": [
       "            seqid  source    type    start      end score strand phase  \\\n",
       "0     NC_000913.3  RefSeq  region        1  4641652     .      +     .   \n",
       "1     NC_000913.3  RefSeq    gene      190      255     .      +     .   \n",
       "2     NC_000913.3  RefSeq     CDS      190      255     .      +     0   \n",
       "3     NC_000913.3  RefSeq    gene      337     2799     .      +     .   \n",
       "4     NC_000913.3  RefSeq     CDS      337     2799     .      +     0   \n",
       "...           ...     ...     ...      ...      ...   ...    ...   ...   \n",
       "9485  NC_000913.3  RefSeq     CDS  4640402  4640542     .      +     0   \n",
       "9486  NC_000913.3  RefSeq    gene  4640718  4640771     .      +     .   \n",
       "9487  NC_000913.3  RefSeq     CDS  4640718  4640771     .      +     0   \n",
       "9488  NC_000913.3  RefSeq    gene  4640942  4641628     .      +     .   \n",
       "9489  NC_000913.3  RefSeq     CDS  4640942  4641628     .      +     0   \n",
       "\n",
       "                                             attributes  \n",
       "0     ID=NC_000913.3:1..4641652;Dbxref=taxon:511145;...  \n",
       "1     ID=gene-b0001;Dbxref=ASAP:ABE-0000006,ECOCYC:E...  \n",
       "2     ID=cds-NP_414542.1;Parent=gene-b0001;Dbxref=Un...  \n",
       "3     ID=gene-b0002;Dbxref=ASAP:ABE-0000008,ECOCYC:E...  \n",
       "4     ID=cds-NP_414543.1;Parent=gene-b0002;Dbxref=Un...  \n",
       "...                                                 ...  \n",
       "9485  ID=cds-NP_418819.1;Parent=gene-b4402;Dbxref=Un...  \n",
       "9486  ID=gene-b4824;Dbxref=ECOCYC:G0-17098,GeneID:71...  \n",
       "9487  ID=cds-YP_010283921.1;Parent=gene-b4824;Dbxref...  \n",
       "9488  ID=gene-b4403;Dbxref=ASAP:ABE-0014442,ECOCYC:E...  \n",
       "9489  ID=cds-NP_418820.1;Parent=gene-b4403;Dbxref=Un...  \n",
       "\n",
       "[9490 rows x 9 columns]"
      ]
     },
     "execution_count": 10,
     "metadata": {},
     "output_type": "execute_result"
    }
   ],
   "source": [
    "gff_data"
   ]
  },
  {
   "cell_type": "code",
   "execution_count": 12,
   "id": "72710249-d4ff-4660-aad1-db0e47758cda",
   "metadata": {},
   "outputs": [
    {
     "data": {
      "text/plain": [
       "(9490, 9)"
      ]
     },
     "execution_count": 12,
     "metadata": {},
     "output_type": "execute_result"
    }
   ],
   "source": [
    "gff_data.shape # gibt an die Form (Anzalh Zeilen und Spalten) des Datensatzes"
   ]
  },
  {
   "cell_type": "code",
   "execution_count": 14,
   "id": "4cd3f3a5-64d4-4c91-8759-411c592f2c19",
   "metadata": {},
   "outputs": [
    {
     "data": {
      "text/plain": [
       "0       region\n",
       "1         gene\n",
       "2          CDS\n",
       "3         gene\n",
       "4          CDS\n",
       "         ...  \n",
       "9485       CDS\n",
       "9486      gene\n",
       "9487       CDS\n",
       "9488      gene\n",
       "9489       CDS\n",
       "Name: type, Length: 9490, dtype: object"
      ]
     },
     "execution_count": 14,
     "metadata": {},
     "output_type": "execute_result"
    }
   ],
   "source": [
    "gff_data[\"type\"] # eine einzelne Spalte herausnehmen/ anschauen (= Data-Series)"
   ]
  },
  {
   "cell_type": "code",
   "execution_count": 16,
   "id": "85e78c34-ae68-4404-ac2c-d07eeb4b9cc7",
   "metadata": {},
   "outputs": [
    {
     "data": {
      "text/plain": [
       "array(['region', 'gene', 'CDS', 'mobile_genetic_element', 'ncRNA', 'exon',\n",
       "       'rRNA', 'tRNA', 'pseudogene', 'sequence_feature',\n",
       "       'origin_of_replication'], dtype=object)"
      ]
     },
     "execution_count": 16,
     "metadata": {},
     "output_type": "execute_result"
    }
   ],
   "source": [
    "gff_data[\"type\"].unique() # gibt heraus, welche individuellen Daten es in der Spalte gibt"
   ]
  },
  {
   "cell_type": "code",
   "execution_count": 18,
   "id": "bfcbf36a-feb0-4d52-9703-07999298c9de",
   "metadata": {},
   "outputs": [
    {
     "data": {
      "text/plain": [
       "type\n",
       "gene                      4494\n",
       "CDS                       4337\n",
       "exon                       207\n",
       "pseudogene                 145\n",
       "ncRNA                       99\n",
       "tRNA                        86\n",
       "mobile_genetic_element      50\n",
       "sequence_feature            48\n",
       "rRNA                        22\n",
       "region                       1\n",
       "origin_of_replication        1\n",
       "Name: count, dtype: int64"
      ]
     },
     "execution_count": 18,
     "metadata": {},
     "output_type": "execute_result"
    }
   ],
   "source": [
    "gff_data[\"type\"].value_counts() # gibt die Anzahl dessen an, wie oft ein value vorkommt"
   ]
  },
  {
   "cell_type": "code",
   "execution_count": 19,
   "id": "8cc01474-e476-4bb5-b25d-07a1e27bfccc",
   "metadata": {},
   "outputs": [],
   "source": [
    "gff_data[\"length\"] = gff_data[\"end\"] - gff_data[\"start\"] + 1"
   ]
  },
  {
   "cell_type": "code",
   "execution_count": 20,
   "id": "0d210f27-090b-4dc3-8061-9919b86c8d5a",
   "metadata": {},
   "outputs": [
    {
     "data": {
      "text/html": [
       "<div>\n",
       "<style scoped>\n",
       "    .dataframe tbody tr th:only-of-type {\n",
       "        vertical-align: middle;\n",
       "    }\n",
       "\n",
       "    .dataframe tbody tr th {\n",
       "        vertical-align: top;\n",
       "    }\n",
       "\n",
       "    .dataframe thead th {\n",
       "        text-align: right;\n",
       "    }\n",
       "</style>\n",
       "<table border=\"1\" class=\"dataframe\">\n",
       "  <thead>\n",
       "    <tr style=\"text-align: right;\">\n",
       "      <th></th>\n",
       "      <th>seqid</th>\n",
       "      <th>source</th>\n",
       "      <th>type</th>\n",
       "      <th>start</th>\n",
       "      <th>end</th>\n",
       "      <th>score</th>\n",
       "      <th>strand</th>\n",
       "      <th>phase</th>\n",
       "      <th>attributes</th>\n",
       "      <th>length</th>\n",
       "    </tr>\n",
       "  </thead>\n",
       "  <tbody>\n",
       "    <tr>\n",
       "      <th>0</th>\n",
       "      <td>NC_000913.3</td>\n",
       "      <td>RefSeq</td>\n",
       "      <td>region</td>\n",
       "      <td>1</td>\n",
       "      <td>4641652</td>\n",
       "      <td>.</td>\n",
       "      <td>+</td>\n",
       "      <td>.</td>\n",
       "      <td>ID=NC_000913.3:1..4641652;Dbxref=taxon:511145;...</td>\n",
       "      <td>4641652</td>\n",
       "    </tr>\n",
       "    <tr>\n",
       "      <th>1</th>\n",
       "      <td>NC_000913.3</td>\n",
       "      <td>RefSeq</td>\n",
       "      <td>gene</td>\n",
       "      <td>190</td>\n",
       "      <td>255</td>\n",
       "      <td>.</td>\n",
       "      <td>+</td>\n",
       "      <td>.</td>\n",
       "      <td>ID=gene-b0001;Dbxref=ASAP:ABE-0000006,ECOCYC:E...</td>\n",
       "      <td>66</td>\n",
       "    </tr>\n",
       "    <tr>\n",
       "      <th>2</th>\n",
       "      <td>NC_000913.3</td>\n",
       "      <td>RefSeq</td>\n",
       "      <td>CDS</td>\n",
       "      <td>190</td>\n",
       "      <td>255</td>\n",
       "      <td>.</td>\n",
       "      <td>+</td>\n",
       "      <td>0</td>\n",
       "      <td>ID=cds-NP_414542.1;Parent=gene-b0001;Dbxref=Un...</td>\n",
       "      <td>66</td>\n",
       "    </tr>\n",
       "    <tr>\n",
       "      <th>3</th>\n",
       "      <td>NC_000913.3</td>\n",
       "      <td>RefSeq</td>\n",
       "      <td>gene</td>\n",
       "      <td>337</td>\n",
       "      <td>2799</td>\n",
       "      <td>.</td>\n",
       "      <td>+</td>\n",
       "      <td>.</td>\n",
       "      <td>ID=gene-b0002;Dbxref=ASAP:ABE-0000008,ECOCYC:E...</td>\n",
       "      <td>2463</td>\n",
       "    </tr>\n",
       "    <tr>\n",
       "      <th>4</th>\n",
       "      <td>NC_000913.3</td>\n",
       "      <td>RefSeq</td>\n",
       "      <td>CDS</td>\n",
       "      <td>337</td>\n",
       "      <td>2799</td>\n",
       "      <td>.</td>\n",
       "      <td>+</td>\n",
       "      <td>0</td>\n",
       "      <td>ID=cds-NP_414543.1;Parent=gene-b0002;Dbxref=Un...</td>\n",
       "      <td>2463</td>\n",
       "    </tr>\n",
       "    <tr>\n",
       "      <th>...</th>\n",
       "      <td>...</td>\n",
       "      <td>...</td>\n",
       "      <td>...</td>\n",
       "      <td>...</td>\n",
       "      <td>...</td>\n",
       "      <td>...</td>\n",
       "      <td>...</td>\n",
       "      <td>...</td>\n",
       "      <td>...</td>\n",
       "      <td>...</td>\n",
       "    </tr>\n",
       "    <tr>\n",
       "      <th>9485</th>\n",
       "      <td>NC_000913.3</td>\n",
       "      <td>RefSeq</td>\n",
       "      <td>CDS</td>\n",
       "      <td>4640402</td>\n",
       "      <td>4640542</td>\n",
       "      <td>.</td>\n",
       "      <td>+</td>\n",
       "      <td>0</td>\n",
       "      <td>ID=cds-NP_418819.1;Parent=gene-b4402;Dbxref=Un...</td>\n",
       "      <td>141</td>\n",
       "    </tr>\n",
       "    <tr>\n",
       "      <th>9486</th>\n",
       "      <td>NC_000913.3</td>\n",
       "      <td>RefSeq</td>\n",
       "      <td>gene</td>\n",
       "      <td>4640718</td>\n",
       "      <td>4640771</td>\n",
       "      <td>.</td>\n",
       "      <td>+</td>\n",
       "      <td>.</td>\n",
       "      <td>ID=gene-b4824;Dbxref=ECOCYC:G0-17098,GeneID:71...</td>\n",
       "      <td>54</td>\n",
       "    </tr>\n",
       "    <tr>\n",
       "      <th>9487</th>\n",
       "      <td>NC_000913.3</td>\n",
       "      <td>RefSeq</td>\n",
       "      <td>CDS</td>\n",
       "      <td>4640718</td>\n",
       "      <td>4640771</td>\n",
       "      <td>.</td>\n",
       "      <td>+</td>\n",
       "      <td>0</td>\n",
       "      <td>ID=cds-YP_010283921.1;Parent=gene-b4824;Dbxref...</td>\n",
       "      <td>54</td>\n",
       "    </tr>\n",
       "    <tr>\n",
       "      <th>9488</th>\n",
       "      <td>NC_000913.3</td>\n",
       "      <td>RefSeq</td>\n",
       "      <td>gene</td>\n",
       "      <td>4640942</td>\n",
       "      <td>4641628</td>\n",
       "      <td>.</td>\n",
       "      <td>+</td>\n",
       "      <td>.</td>\n",
       "      <td>ID=gene-b4403;Dbxref=ASAP:ABE-0014442,ECOCYC:E...</td>\n",
       "      <td>687</td>\n",
       "    </tr>\n",
       "    <tr>\n",
       "      <th>9489</th>\n",
       "      <td>NC_000913.3</td>\n",
       "      <td>RefSeq</td>\n",
       "      <td>CDS</td>\n",
       "      <td>4640942</td>\n",
       "      <td>4641628</td>\n",
       "      <td>.</td>\n",
       "      <td>+</td>\n",
       "      <td>0</td>\n",
       "      <td>ID=cds-NP_418820.1;Parent=gene-b4403;Dbxref=Un...</td>\n",
       "      <td>687</td>\n",
       "    </tr>\n",
       "  </tbody>\n",
       "</table>\n",
       "<p>9490 rows × 10 columns</p>\n",
       "</div>"
      ],
      "text/plain": [
       "            seqid  source    type    start      end score strand phase  \\\n",
       "0     NC_000913.3  RefSeq  region        1  4641652     .      +     .   \n",
       "1     NC_000913.3  RefSeq    gene      190      255     .      +     .   \n",
       "2     NC_000913.3  RefSeq     CDS      190      255     .      +     0   \n",
       "3     NC_000913.3  RefSeq    gene      337     2799     .      +     .   \n",
       "4     NC_000913.3  RefSeq     CDS      337     2799     .      +     0   \n",
       "...           ...     ...     ...      ...      ...   ...    ...   ...   \n",
       "9485  NC_000913.3  RefSeq     CDS  4640402  4640542     .      +     0   \n",
       "9486  NC_000913.3  RefSeq    gene  4640718  4640771     .      +     .   \n",
       "9487  NC_000913.3  RefSeq     CDS  4640718  4640771     .      +     0   \n",
       "9488  NC_000913.3  RefSeq    gene  4640942  4641628     .      +     .   \n",
       "9489  NC_000913.3  RefSeq     CDS  4640942  4641628     .      +     0   \n",
       "\n",
       "                                             attributes   length  \n",
       "0     ID=NC_000913.3:1..4641652;Dbxref=taxon:511145;...  4641652  \n",
       "1     ID=gene-b0001;Dbxref=ASAP:ABE-0000006,ECOCYC:E...       66  \n",
       "2     ID=cds-NP_414542.1;Parent=gene-b0001;Dbxref=Un...       66  \n",
       "3     ID=gene-b0002;Dbxref=ASAP:ABE-0000008,ECOCYC:E...     2463  \n",
       "4     ID=cds-NP_414543.1;Parent=gene-b0002;Dbxref=Un...     2463  \n",
       "...                                                 ...      ...  \n",
       "9485  ID=cds-NP_418819.1;Parent=gene-b4402;Dbxref=Un...      141  \n",
       "9486  ID=gene-b4824;Dbxref=ECOCYC:G0-17098,GeneID:71...       54  \n",
       "9487  ID=cds-YP_010283921.1;Parent=gene-b4824;Dbxref...       54  \n",
       "9488  ID=gene-b4403;Dbxref=ASAP:ABE-0014442,ECOCYC:E...      687  \n",
       "9489  ID=cds-NP_418820.1;Parent=gene-b4403;Dbxref=Un...      687  \n",
       "\n",
       "[9490 rows x 10 columns]"
      ]
     },
     "execution_count": 20,
     "metadata": {},
     "output_type": "execute_result"
    }
   ],
   "source": [
    "gff_data"
   ]
  },
  {
   "cell_type": "code",
   "execution_count": 21,
   "id": "ff148654-3245-4174-96ff-77b24e912f8e",
   "metadata": {},
   "outputs": [],
   "source": [
    "gene_data = gff_data[gff_data[\"type\"] == \"gene\"]"
   ]
  },
  {
   "cell_type": "code",
   "execution_count": 22,
   "id": "8dce5073-823b-4812-9a64-a024f3f53293",
   "metadata": {},
   "outputs": [
    {
     "data": {
      "text/html": [
       "<div>\n",
       "<style scoped>\n",
       "    .dataframe tbody tr th:only-of-type {\n",
       "        vertical-align: middle;\n",
       "    }\n",
       "\n",
       "    .dataframe tbody tr th {\n",
       "        vertical-align: top;\n",
       "    }\n",
       "\n",
       "    .dataframe thead th {\n",
       "        text-align: right;\n",
       "    }\n",
       "</style>\n",
       "<table border=\"1\" class=\"dataframe\">\n",
       "  <thead>\n",
       "    <tr style=\"text-align: right;\">\n",
       "      <th></th>\n",
       "      <th>seqid</th>\n",
       "      <th>source</th>\n",
       "      <th>type</th>\n",
       "      <th>start</th>\n",
       "      <th>end</th>\n",
       "      <th>score</th>\n",
       "      <th>strand</th>\n",
       "      <th>phase</th>\n",
       "      <th>attributes</th>\n",
       "      <th>length</th>\n",
       "    </tr>\n",
       "  </thead>\n",
       "  <tbody>\n",
       "    <tr>\n",
       "      <th>1</th>\n",
       "      <td>NC_000913.3</td>\n",
       "      <td>RefSeq</td>\n",
       "      <td>gene</td>\n",
       "      <td>190</td>\n",
       "      <td>255</td>\n",
       "      <td>.</td>\n",
       "      <td>+</td>\n",
       "      <td>.</td>\n",
       "      <td>ID=gene-b0001;Dbxref=ASAP:ABE-0000006,ECOCYC:E...</td>\n",
       "      <td>66</td>\n",
       "    </tr>\n",
       "    <tr>\n",
       "      <th>3</th>\n",
       "      <td>NC_000913.3</td>\n",
       "      <td>RefSeq</td>\n",
       "      <td>gene</td>\n",
       "      <td>337</td>\n",
       "      <td>2799</td>\n",
       "      <td>.</td>\n",
       "      <td>+</td>\n",
       "      <td>.</td>\n",
       "      <td>ID=gene-b0002;Dbxref=ASAP:ABE-0000008,ECOCYC:E...</td>\n",
       "      <td>2463</td>\n",
       "    </tr>\n",
       "    <tr>\n",
       "      <th>5</th>\n",
       "      <td>NC_000913.3</td>\n",
       "      <td>RefSeq</td>\n",
       "      <td>gene</td>\n",
       "      <td>2801</td>\n",
       "      <td>3733</td>\n",
       "      <td>.</td>\n",
       "      <td>+</td>\n",
       "      <td>.</td>\n",
       "      <td>ID=gene-b0003;Dbxref=ASAP:ABE-0000010,ECOCYC:E...</td>\n",
       "      <td>933</td>\n",
       "    </tr>\n",
       "    <tr>\n",
       "      <th>7</th>\n",
       "      <td>NC_000913.3</td>\n",
       "      <td>RefSeq</td>\n",
       "      <td>gene</td>\n",
       "      <td>3734</td>\n",
       "      <td>5020</td>\n",
       "      <td>.</td>\n",
       "      <td>+</td>\n",
       "      <td>.</td>\n",
       "      <td>ID=gene-b0004;Dbxref=ASAP:ABE-0000012,ECOCYC:E...</td>\n",
       "      <td>1287</td>\n",
       "    </tr>\n",
       "    <tr>\n",
       "      <th>9</th>\n",
       "      <td>NC_000913.3</td>\n",
       "      <td>RefSeq</td>\n",
       "      <td>gene</td>\n",
       "      <td>5234</td>\n",
       "      <td>5530</td>\n",
       "      <td>.</td>\n",
       "      <td>+</td>\n",
       "      <td>.</td>\n",
       "      <td>ID=gene-b0005;Dbxref=ASAP:ABE-0000015,ECOCYC:G...</td>\n",
       "      <td>297</td>\n",
       "    </tr>\n",
       "    <tr>\n",
       "      <th>...</th>\n",
       "      <td>...</td>\n",
       "      <td>...</td>\n",
       "      <td>...</td>\n",
       "      <td>...</td>\n",
       "      <td>...</td>\n",
       "      <td>...</td>\n",
       "      <td>...</td>\n",
       "      <td>...</td>\n",
       "      <td>...</td>\n",
       "      <td>...</td>\n",
       "    </tr>\n",
       "    <tr>\n",
       "      <th>9480</th>\n",
       "      <td>NC_000913.3</td>\n",
       "      <td>RefSeq</td>\n",
       "      <td>gene</td>\n",
       "      <td>4638178</td>\n",
       "      <td>4639530</td>\n",
       "      <td>.</td>\n",
       "      <td>+</td>\n",
       "      <td>.</td>\n",
       "      <td>ID=gene-b4400;Dbxref=ASAP:ABE-0014432,ECOCYC:E...</td>\n",
       "      <td>1353</td>\n",
       "    </tr>\n",
       "    <tr>\n",
       "      <th>9482</th>\n",
       "      <td>NC_000913.3</td>\n",
       "      <td>RefSeq</td>\n",
       "      <td>gene</td>\n",
       "      <td>4639590</td>\n",
       "      <td>4640306</td>\n",
       "      <td>.</td>\n",
       "      <td>-</td>\n",
       "      <td>.</td>\n",
       "      <td>ID=gene-b4401;Dbxref=ASAP:ABE-0014434,ECOCYC:E...</td>\n",
       "      <td>717</td>\n",
       "    </tr>\n",
       "    <tr>\n",
       "      <th>9484</th>\n",
       "      <td>NC_000913.3</td>\n",
       "      <td>RefSeq</td>\n",
       "      <td>gene</td>\n",
       "      <td>4640402</td>\n",
       "      <td>4640542</td>\n",
       "      <td>.</td>\n",
       "      <td>+</td>\n",
       "      <td>.</td>\n",
       "      <td>ID=gene-b4402;Dbxref=ASAP:ABE-0014437,ECOCYC:G...</td>\n",
       "      <td>141</td>\n",
       "    </tr>\n",
       "    <tr>\n",
       "      <th>9486</th>\n",
       "      <td>NC_000913.3</td>\n",
       "      <td>RefSeq</td>\n",
       "      <td>gene</td>\n",
       "      <td>4640718</td>\n",
       "      <td>4640771</td>\n",
       "      <td>.</td>\n",
       "      <td>+</td>\n",
       "      <td>.</td>\n",
       "      <td>ID=gene-b4824;Dbxref=ECOCYC:G0-17098,GeneID:71...</td>\n",
       "      <td>54</td>\n",
       "    </tr>\n",
       "    <tr>\n",
       "      <th>9488</th>\n",
       "      <td>NC_000913.3</td>\n",
       "      <td>RefSeq</td>\n",
       "      <td>gene</td>\n",
       "      <td>4640942</td>\n",
       "      <td>4641628</td>\n",
       "      <td>.</td>\n",
       "      <td>+</td>\n",
       "      <td>.</td>\n",
       "      <td>ID=gene-b4403;Dbxref=ASAP:ABE-0014442,ECOCYC:E...</td>\n",
       "      <td>687</td>\n",
       "    </tr>\n",
       "  </tbody>\n",
       "</table>\n",
       "<p>4494 rows × 10 columns</p>\n",
       "</div>"
      ],
      "text/plain": [
       "            seqid  source  type    start      end score strand phase  \\\n",
       "1     NC_000913.3  RefSeq  gene      190      255     .      +     .   \n",
       "3     NC_000913.3  RefSeq  gene      337     2799     .      +     .   \n",
       "5     NC_000913.3  RefSeq  gene     2801     3733     .      +     .   \n",
       "7     NC_000913.3  RefSeq  gene     3734     5020     .      +     .   \n",
       "9     NC_000913.3  RefSeq  gene     5234     5530     .      +     .   \n",
       "...           ...     ...   ...      ...      ...   ...    ...   ...   \n",
       "9480  NC_000913.3  RefSeq  gene  4638178  4639530     .      +     .   \n",
       "9482  NC_000913.3  RefSeq  gene  4639590  4640306     .      -     .   \n",
       "9484  NC_000913.3  RefSeq  gene  4640402  4640542     .      +     .   \n",
       "9486  NC_000913.3  RefSeq  gene  4640718  4640771     .      +     .   \n",
       "9488  NC_000913.3  RefSeq  gene  4640942  4641628     .      +     .   \n",
       "\n",
       "                                             attributes  length  \n",
       "1     ID=gene-b0001;Dbxref=ASAP:ABE-0000006,ECOCYC:E...      66  \n",
       "3     ID=gene-b0002;Dbxref=ASAP:ABE-0000008,ECOCYC:E...    2463  \n",
       "5     ID=gene-b0003;Dbxref=ASAP:ABE-0000010,ECOCYC:E...     933  \n",
       "7     ID=gene-b0004;Dbxref=ASAP:ABE-0000012,ECOCYC:E...    1287  \n",
       "9     ID=gene-b0005;Dbxref=ASAP:ABE-0000015,ECOCYC:G...     297  \n",
       "...                                                 ...     ...  \n",
       "9480  ID=gene-b4400;Dbxref=ASAP:ABE-0014432,ECOCYC:E...    1353  \n",
       "9482  ID=gene-b4401;Dbxref=ASAP:ABE-0014434,ECOCYC:E...     717  \n",
       "9484  ID=gene-b4402;Dbxref=ASAP:ABE-0014437,ECOCYC:G...     141  \n",
       "9486  ID=gene-b4824;Dbxref=ECOCYC:G0-17098,GeneID:71...      54  \n",
       "9488  ID=gene-b4403;Dbxref=ASAP:ABE-0014442,ECOCYC:E...     687  \n",
       "\n",
       "[4494 rows x 10 columns]"
      ]
     },
     "execution_count": 22,
     "metadata": {},
     "output_type": "execute_result"
    }
   ],
   "source": [
    "gene_data"
   ]
  },
  {
   "cell_type": "code",
   "execution_count": 23,
   "id": "d4780dc9-b91d-4e80-b398-f1285d64b596",
   "metadata": {},
   "outputs": [],
   "source": [
    "# \"=\" ist für Zuweisung (e.g., von Variablen); \"==\" ist das Gleichheitszeichen im übrigen Sinne"
   ]
  },
  {
   "cell_type": "code",
   "execution_count": 24,
   "id": "c8efde9f-0e18-48d1-96db-12af1f298162",
   "metadata": {},
   "outputs": [
    {
     "data": {
      "text/plain": [
       "(4494, 10)"
      ]
     },
     "execution_count": 24,
     "metadata": {},
     "output_type": "execute_result"
    }
   ],
   "source": [
    "gene_data.shape"
   ]
  },
  {
   "cell_type": "code",
   "execution_count": 25,
   "id": "02ba787f-525f-4f73-91b9-e4297e08b39d",
   "metadata": {},
   "outputs": [
    {
     "data": {
      "text/plain": [
       "899.1562082777036"
      ]
     },
     "execution_count": 25,
     "metadata": {},
     "output_type": "execute_result"
    }
   ],
   "source": [
    "gene_data[\"length\"].mean()"
   ]
  },
  {
   "cell_type": "code",
   "execution_count": 26,
   "id": "8cacc296-00e2-41a8-a00c-aea1ff01b2fc",
   "metadata": {},
   "outputs": [
    {
     "data": {
      "text/plain": [
       "795.0"
      ]
     },
     "execution_count": 26,
     "metadata": {},
     "output_type": "execute_result"
    }
   ],
   "source": [
    "gene_data[\"length\"].median()"
   ]
  },
  {
   "cell_type": "code",
   "execution_count": 27,
   "id": "90cca360-5cdb-4039-8571-13ad70177399",
   "metadata": {},
   "outputs": [
    {
     "data": {
      "text/plain": [
       "count    4494.000000\n",
       "mean      899.156208\n",
       "std       644.373325\n",
       "min        27.000000\n",
       "25%       444.000000\n",
       "50%       795.000000\n",
       "75%      1203.000000\n",
       "max      7077.000000\n",
       "Name: length, dtype: float64"
      ]
     },
     "execution_count": 27,
     "metadata": {},
     "output_type": "execute_result"
    }
   ],
   "source": [
    "gene_data[\"length\"].describe()"
   ]
  },
  {
   "cell_type": "code",
   "execution_count": 28,
   "id": "b7b7377e-b6df-4861-b152-12b6f590b6b7",
   "metadata": {},
   "outputs": [
    {
     "data": {
      "text/plain": [
       "27"
      ]
     },
     "execution_count": 28,
     "metadata": {},
     "output_type": "execute_result"
    }
   ],
   "source": [
    "gene_data[\"length\"].min()"
   ]
  },
  {
   "cell_type": "code",
   "execution_count": 30,
   "id": "0c86e1da-3b22-4995-bc7e-258708879a7e",
   "metadata": {},
   "outputs": [
    {
     "data": {
      "text/plain": [
       "<Axes: >"
      ]
     },
     "execution_count": 30,
     "metadata": {},
     "output_type": "execute_result"
    },
    {
     "data": {
      "image/png": "[encoded data removed]",
      "text/plain": [
       "<Figure size 640x480 with 1 Axes>"
      ]
     },
     "metadata": {},
     "output_type": "display_data"
    }
   ],
   "source": [
    "gene_data[\"length\"].hist()"
   ]
  },
  {
   "cell_type": "code",
   "execution_count": 32,
   "id": "3c7622b6-9689-40a4-afec-d9c06538569c",
   "metadata": {},
   "outputs": [
    {
     "data": {
      "text/plain": [
       "<Axes: >"
      ]
     },
     "execution_count": 32,
     "metadata": {},
     "output_type": "execute_result"
    },
    {
     "data": {
      "image/png": "[encoded data removed]",
      "text/plain": [
       "<Figure size 640x480 with 1 Axes>"
      ]
     },
     "metadata": {},
     "output_type": "display_data"
    }
   ],
   "source": [
    "gene_data[\"length\"].hist(bins=30, color=\"black\")"
   ]
  },
  {
   "cell_type": "code",
   "execution_count": 34,
   "id": "5ec9d3e0-a15e-4e7d-a01b-f0628850bc47",
   "metadata": {},
   "outputs": [],
   "source": [
    "gene_data.to_csv(\"E_coli_only_genes.csv\")"
   ]
  },
  {
   "cell_type": "code",
   "execution_count": null,
   "id": "121ffb85-64c1-4a80-bc75-3ae2c1cd5ccc",
   "metadata": {},
   "outputs": [],
   "source": []
  }
 ],
 "metadata": {
  "kernelspec": {
   "display_name": "Python 3 (ipykernel)",
   "language": "python",
   "name": "python3"
  },
  "language_info": {
   "codemirror_mode": {
    "name": "ipython",
    "version": 3
   },
   "file_extension": ".py",
   "mimetype": "text/x-python",
   "name": "python",
   "nbconvert_exporter": "python",
   "pygments_lexer": "ipython3",
   "version": "3.12.7"
  }
 },
 "nbformat": 4,
 "nbformat_minor": 5
}
