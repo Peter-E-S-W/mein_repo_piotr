{
 "cells": [
  {
   "cell_type": "code",
   "execution_count": null,
   "id": "4de9dd24-359a-4a80-967a-abd7a53f3b03",
   "metadata": {},
   "outputs": [],
   "source": []
  }
 ],
 "metadata": {
  "kernelspec": {
   "display_name": "",
   "name": ""
  },
  "language_info": {
   "name": ""
  }
 },
 "nbformat": 4,
 "nbformat_minor": 5
}
