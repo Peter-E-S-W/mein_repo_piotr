{
 "cells": [
  {
   "cell_type": "code",
   "execution_count": 1,
   "id": "73a480b6-7023-46e9-9e5a-6a0a76411390",
   "metadata": {},
   "outputs": [],
   "source": [
    "gene_name = \"X\"\n",
    "sequence = \"ACGCGTTA\""
   ]
  },
  {
   "cell_type": "code",
   "execution_count": 3,
   "id": "8d1de91b-9d04-4cb0-8c52-697e7ee896b2",
   "metadata": {},
   "outputs": [
    {
     "name": "stdout",
     "output_type": "stream",
     "text": [
      "Gene X has 8 nucleotides\n"
     ]
    }
   ],
   "source": [
    "print(f\"Gene {gene_name} has {len(sequence)} nucleotides\")"
   ]
  },
  {
   "cell_type": "code",
   "execution_count": 4,
   "id": "2869fd9f-9f5b-4ef3-9544-b37e05c41d1e",
   "metadata": {},
   "outputs": [],
   "source": [
    "def gene_length(gene_name, sequence):\n",
    "    print(f\"Gene {gene_name} has {len(sequence)} nucleotides\")"
   ]
  },
  {
   "cell_type": "code",
   "execution_count": 5,
   "id": "7a3303b4-cfaf-4278-9789-14544afbeb22",
   "metadata": {},
   "outputs": [
    {
     "name": "stdout",
     "output_type": "stream",
     "text": [
      "Gene Y has 10 nucleotides\n"
     ]
    }
   ],
   "source": [
    "gene_length(\"Y\", \"TTCGCGTAAG\")"
   ]
  },
  {
   "cell_type": "code",
   "execution_count": 6,
   "id": "9ca9e315-5ca4-46ff-9fdf-3fd9d15ed9d1",
   "metadata": {},
   "outputs": [
    {
     "name": "stdout",
     "output_type": "stream",
     "text": [
      "Gene Z has 3 nucleotides\n"
     ]
    }
   ],
   "source": [
    "gene_length(\"Z\", \"GTA\")"
   ]
  },
  {
   "cell_type": "code",
   "execution_count": 8,
   "id": "3849c792-c903-4003-b84c-5791e8c7b1f2",
   "metadata": {},
   "outputs": [],
   "source": [
    "class Gene():\n",
    "    def __init__(self, name, sequence):\n",
    "        self.name = name\n",
    "        self.sequence = sequence\n",
    "        \n",
    "    def length(self):\n",
    "        return len(self.sequence)"
   ]
  },
  {
   "cell_type": "code",
   "execution_count": 9,
   "id": "d18850d7-79d0-47d0-9dba-8cb3858ca450",
   "metadata": {},
   "outputs": [],
   "source": [
    "gene_x = Gene(\"Gene X\", \"CGCGCGCTCGAGCAGACGCTA\")"
   ]
  },
  {
   "cell_type": "code",
   "execution_count": 10,
   "id": "e504c71b-d052-4c4c-a251-48ae1931cba6",
   "metadata": {},
   "outputs": [
    {
     "data": {
      "text/plain": [
       "21"
      ]
     },
     "execution_count": 10,
     "metadata": {},
     "output_type": "execute_result"
    }
   ],
   "source": [
    "gene_x.length()"
   ]
  },
  {
   "cell_type": "code",
   "execution_count": 11,
   "id": "380aa73b-ff76-40a1-b76d-d8f1c539708a",
   "metadata": {},
   "outputs": [
    {
     "data": {
      "text/plain": [
       "'CGCGCGCTCGAGCAGACGCTA'"
      ]
     },
     "execution_count": 11,
     "metadata": {},
     "output_type": "execute_result"
    }
   ],
   "source": [
    "gene_x.sequence"
   ]
  },
  {
   "cell_type": "code",
   "execution_count": 12,
   "id": "de5fd0f8-d2d8-485d-80aa-6a1a46b7531f",
   "metadata": {},
   "outputs": [
    {
     "data": {
      "text/plain": [
       "'Gene X'"
      ]
     },
     "execution_count": 12,
     "metadata": {},
     "output_type": "execute_result"
    }
   ],
   "source": [
    "gene_x.name"
   ]
  },
  {
   "cell_type": "code",
   "execution_count": 13,
   "id": "25911ea1-9530-4df4-83d2-19bbf7a26074",
   "metadata": {},
   "outputs": [],
   "source": [
    "gene_y = Gene(\"Y\", \"ACGAGCT\")"
   ]
  },
  {
   "cell_type": "code",
   "execution_count": 14,
   "id": "4d0bda29-e43a-441b-bcac-929513eae072",
   "metadata": {},
   "outputs": [
    {
     "data": {
      "text/plain": [
       "7"
      ]
     },
     "execution_count": 14,
     "metadata": {},
     "output_type": "execute_result"
    }
   ],
   "source": [
    "gene_y.length()"
   ]
  },
  {
   "cell_type": "code",
   "execution_count": 15,
   "id": "283b2b87-f6c6-4eda-a8c5-3477866ee65a",
   "metadata": {},
   "outputs": [],
   "source": [
    "sequence = \"ACGT\""
   ]
  },
  {
   "cell_type": "code",
   "execution_count": 24,
   "id": "99e2cd32-f5d2-41a5-8a2b-54bc58a53b33",
   "metadata": {},
   "outputs": [],
   "source": [
    "# Das zweite Argument im Slicing excludes!"
   ]
  },
  {
   "cell_type": "code",
   "execution_count": 19,
   "id": "e83e63db-fd72-41c9-af1a-782a7b2c6572",
   "metadata": {},
   "outputs": [
    {
     "data": {
      "text/plain": [
       "'ACGT'"
      ]
     },
     "execution_count": 19,
     "metadata": {},
     "output_type": "execute_result"
    }
   ],
   "source": [
    "sequence[::] # alles"
   ]
  },
  {
   "cell_type": "code",
   "execution_count": 20,
   "id": "c19d3ab5-5a42-4702-98b3-d54ae853544f",
   "metadata": {},
   "outputs": [
    {
     "data": {
      "text/plain": [
       "'TGCA'"
      ]
     },
     "execution_count": 20,
     "metadata": {},
     "output_type": "execute_result"
    }
   ],
   "source": [
    "sequence[::-1] # reverse order"
   ]
  },
  {
   "cell_type": "code",
   "execution_count": 21,
   "id": "975eff36-19b5-43d8-86e8-d3f7e999e2f7",
   "metadata": {},
   "outputs": [
    {
     "data": {
      "text/plain": [
       "'AG'"
      ]
     },
     "execution_count": 21,
     "metadata": {},
     "output_type": "execute_result"
    }
   ],
   "source": [
    "sequence[::2] # jedes zweite Zeichen"
   ]
  },
  {
   "cell_type": "code",
   "execution_count": 43,
   "id": "ef26d6fe-812d-49cb-a68c-206df8d17653",
   "metadata": {},
   "outputs": [],
   "source": [
    "class Gene():\n",
    "    def __init__(self, name, sequence):\n",
    "        self.name = name\n",
    "        self.sequence = sequence\n",
    "        \n",
    "    def length(self):\n",
    "        return len(self.sequence)\n",
    "\n",
    "    def rna(self):\n",
    "        reversed_seq = self.sequence[::-1]\n",
    "        nuc_mapping = {\"A\": \"U\",\n",
    "                      \"T\" : \"A\",\n",
    "                      \"G\" : \"C\",\n",
    "                      \"C\" : \"G\"}\n",
    "        transcribed_seq = \"\"\n",
    "        for nucleotide in reversed_seq:\n",
    "            transcribed_seq += nuc_mapping[nucleotide]\n",
    "        return transcribed_seq"
   ]
  },
  {
   "cell_type": "code",
   "execution_count": 44,
   "id": "c7200555-f09e-48fa-9500-d061f4ddbd09",
   "metadata": {},
   "outputs": [],
   "source": [
    "gene_y = Gene(\"Gene Y\", \"AACGT\")"
   ]
  },
  {
   "cell_type": "code",
   "execution_count": 45,
   "id": "316b7221-1073-4916-940e-779e876c2315",
   "metadata": {},
   "outputs": [
    {
     "data": {
      "text/plain": [
       "'ACGUU'"
      ]
     },
     "execution_count": 45,
     "metadata": {},
     "output_type": "execute_result"
    }
   ],
   "source": [
    "gene_y.rna()"
   ]
  },
  {
   "cell_type": "code",
   "execution_count": 49,
   "id": "5a06b067-0ae6-4dd9-930b-53f74cce96cb",
   "metadata": {},
   "outputs": [
    {
     "data": {
      "text/plain": [
       "('Gene Y', 'AACGT', 'ACGUU')"
      ]
     },
     "execution_count": 49,
     "metadata": {},
     "output_type": "execute_result"
    }
   ],
   "source": [
    "# attributes (name, sequence, etc.) just with .xyz, methods/ functions always with .xyz()\n",
    "gene_y.name, gene_y.sequence, gene_y.rna() "
   ]
  },
  {
   "cell_type": "code",
   "execution_count": null,
   "id": "0c74ad26-97c2-4e48-9373-d14a6d7491ca",
   "metadata": {},
   "outputs": [],
   "source": []
  },
  {
   "cell_type": "code",
   "execution_count": null,
   "id": "b08b55e5-abd7-49ee-91a1-2431ac610e79",
   "metadata": {},
   "outputs": [],
   "source": []
  }
 ],
 "metadata": {
  "kernelspec": {
   "display_name": "Python 3 (ipykernel)",
   "language": "python",
   "name": "python3"
  },
  "language_info": {
   "codemirror_mode": {
    "name": "ipython",
    "version": 3
   },
   "file_extension": ".py",
   "mimetype": "text/x-python",
   "name": "python",
   "nbconvert_exporter": "python",
   "pygments_lexer": "ipython3",
   "version": "3.12.7"
  }
 },
 "nbformat": 4,
 "nbformat_minor": 5
}
