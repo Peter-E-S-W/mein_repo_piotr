{
 "cells": [
  {
   "cell_type": "markdown",
   "id": "4c2c22aa-bd80-4f81-a9dd-df99b853e287",
   "metadata": {},
   "source": [
    "## Python Einführung\n",
    "Hier möchten wir Python kennenlernen - wir können _kursiv_ und **fett** schreiben."
   ]
  },
  {
   "cell_type": "markdown",
   "id": "00ffab87-24ca-490e-9f2a-875ab57c18aa",
   "metadata": {},
   "source": [
    "# Erste Anweisung!"
   ]
  },
  {
   "cell_type": "code",
   "execution_count": 3,
   "id": "2b036286-e28f-4709-8cd1-00c72dac92df",
   "metadata": {},
   "outputs": [
    {
     "name": "stdout",
     "output_type": "stream",
     "text": [
      "Hello world!\n"
     ]
    }
   ],
   "source": [
    "print(\"Hello world!\")"
   ]
  },
  {
   "cell_type": "markdown",
   "id": "2d6e3f41-d237-4162-9083-5fd92f62c7ef",
   "metadata": {},
   "source": [
    "### Kommentare"
   ]
  },
  {
   "cell_type": "code",
   "execution_count": 4,
   "id": "9bb428ad-69c5-4c49-a313-5836b78668d0",
   "metadata": {},
   "outputs": [
    {
     "name": "stdout",
     "output_type": "stream",
     "text": [
      "something\n"
     ]
    }
   ],
   "source": [
    "# Dies ist ein Kommentar\n",
    "print(\"something\")"
   ]
  },
  {
   "cell_type": "markdown",
   "id": "eb3999bd-8202-46a0-8871-26e83d23076c",
   "metadata": {},
   "source": [
    "### Einfache Datentypen"
   ]
  },
  {
   "cell_type": "code",
   "execution_count": 5,
   "id": "aee200e1-5430-4d9d-b4c5-83240b6763ea",
   "metadata": {},
   "outputs": [
    {
     "name": "stdout",
     "output_type": "stream",
     "text": [
      "Lovelace\n"
     ]
    }
   ],
   "source": [
    "# Viariablen und Wrtezuweisungen (Value-Assignment).\n",
    "name = \"Lovelace\"\n",
    "print(name)"
   ]
  },
  {
   "cell_type": "code",
   "execution_count": 6,
   "id": "6a2f0662-31bd-4365-b912-964901ec6190",
   "metadata": {},
   "outputs": [
    {
     "name": "stdout",
     "output_type": "stream",
     "text": [
      "Ada\n"
     ]
    }
   ],
   "source": [
    "# Strings - Zeichenkette\n",
    "first_name = \"Ada\"\n",
    "print(first_name)\n"
   ]
  },
  {
   "cell_type": "code",
   "execution_count": 8,
   "id": "bdc3c365-9875-4d16-972a-a9d12039836f",
   "metadata": {},
   "outputs": [
    {
     "name": "stdout",
     "output_type": "stream",
     "text": [
      "37\n"
     ]
    }
   ],
   "source": [
    "# Integer - Ganzzahlen\n",
    "age = 37\n",
    "print(age)"
   ]
  },
  {
   "cell_type": "code",
   "execution_count": 9,
   "id": "07d96552-f5e5-4553-ac05-870dc0433586",
   "metadata": {},
   "outputs": [
    {
     "name": "stdout",
     "output_type": "stream",
     "text": [
      "1.71\n"
     ]
    }
   ],
   "source": [
    "# Float - Gleitkommazahlen\n",
    "size = 1.71\n",
    "print(size)"
   ]
  },
  {
   "cell_type": "code",
   "execution_count": 10,
   "id": "0436f74c-5688-4ff7-9ee7-b8bdd6d5562a",
   "metadata": {},
   "outputs": [
    {
     "name": "stdout",
     "output_type": "stream",
     "text": [
      "True\n",
      "False\n"
     ]
    }
   ],
   "source": [
    "# Boolean - Boolsche Werte\n",
    "knows_math = True\n",
    "print(knows_math)\n",
    "likes_gardening = False\n",
    "print(likes_gardening)"
   ]
  },
  {
   "cell_type": "code",
   "execution_count": 11,
   "id": "ff8a7af8-6b62-4031-95a8-ba152c1c1f1a",
   "metadata": {},
   "outputs": [
    {
     "data": {
      "text/plain": [
       "str"
      ]
     },
     "execution_count": 11,
     "metadata": {},
     "output_type": "execute_result"
    }
   ],
   "source": [
    "type(name)"
   ]
  },
  {
   "cell_type": "markdown",
   "id": "fbad7d58-f18a-4c56-ad6f-f2d3245f9df2",
   "metadata": {},
   "source": [
    "#### Kleine Aufgabe"
   ]
  },
  {
   "cell_type": "code",
   "execution_count": 14,
   "id": "ed48602d-9d66-48b8-bfd0-da13d1ec886d",
   "metadata": {},
   "outputs": [
    {
     "name": "stdout",
     "output_type": "stream",
     "text": [
      "Ken Follet's 'The Pillars of the Earth' 1087 4.8\n"
     ]
    }
   ],
   "source": [
    "book_name = \"Ken Follet's 'The Pillars of the Earth'\"\n",
    "book_pages = 1087\n",
    "book_eval = 4.8\n",
    "print(book_name,book_pages,book_eval)"
   ]
  },
  {
   "cell_type": "code",
   "execution_count": 20,
   "id": "3d1688b7-10d1-488d-a283-aa7aee740206",
   "metadata": {},
   "outputs": [
    {
     "data": {
      "text/plain": [
       "37"
      ]
     },
     "execution_count": 20,
     "metadata": {},
     "output_type": "execute_result"
    }
   ],
   "source": [
    "# Ohne Funktion \"print()\" wird stets der letzte Wert ausgegeben\n",
    "name\n",
    "age"
   ]
  },
  {
   "cell_type": "code",
   "execution_count": 23,
   "id": "b82e1fab-e2cb-43d9-8d14-50f4b0f5a3a4",
   "metadata": {},
   "outputs": [
    {
     "name": "stdout",
     "output_type": "stream",
     "text": [
      "Ada Lovelace 37\n"
     ]
    }
   ],
   "source": [
    "# Bei gewünschter Mehrfachausgabe\n",
    "print (first_name, name, age)"
   ]
  },
  {
   "cell_type": "markdown",
   "id": "aab32c86-9889-427b-b830-8dd414df70c1",
   "metadata": {},
   "source": [
    "## Operatoren"
   ]
  },
  {
   "cell_type": "code",
   "execution_count": 24,
   "id": "09ac5ddb-11fb-465b-a974-47f2593f3143",
   "metadata": {},
   "outputs": [
    {
     "data": {
      "text/plain": [
       "10"
      ]
     },
     "execution_count": 24,
     "metadata": {},
     "output_type": "execute_result"
    }
   ],
   "source": [
    "# Addition von Integers\n",
    "5 + 5"
   ]
  },
  {
   "cell_type": "code",
   "execution_count": 26,
   "id": "5ecb59e5-e069-4561-92f0-70f44d35045b",
   "metadata": {},
   "outputs": [
    {
     "data": {
      "text/plain": [
       "3700"
      ]
     },
     "execution_count": 26,
     "metadata": {},
     "output_type": "execute_result"
    }
   ],
   "source": [
    "# Multiplikation\n",
    "age * 100"
   ]
  },
  {
   "cell_type": "code",
   "execution_count": 27,
   "id": "f575d6ec-32f2-427e-80a7-7abd8fa119e5",
   "metadata": {},
   "outputs": [
    {
     "data": {
      "text/plain": [
       "'LovelaceLovelace'"
      ]
     },
     "execution_count": 27,
     "metadata": {},
     "output_type": "execute_result"
    }
   ],
   "source": [
    "# Verkettung von Strings\n",
    "name + name"
   ]
  },
  {
   "cell_type": "code",
   "execution_count": 28,
   "id": "18b65400-9f3f-41c3-98ad-b1f73f875d0c",
   "metadata": {},
   "outputs": [
    {
     "data": {
      "text/plain": [
       "'LovelaceLovelaceLovelaceLovelaceLovelaceLovelaceLovelaceLovelaceLovelaceLovelace'"
      ]
     },
     "execution_count": 28,
     "metadata": {},
     "output_type": "execute_result"
    }
   ],
   "source": [
    "# Strings x-mal aneinanderketten\n",
    "name * 10"
   ]
  },
  {
   "cell_type": "code",
   "execution_count": 29,
   "id": "391c81a7-7280-49f6-85c2-2c45dc7a5d13",
   "metadata": {},
   "outputs": [
    {
     "data": {
      "text/plain": [
       "'Lovelace10'"
      ]
     },
     "execution_count": 29,
     "metadata": {},
     "output_type": "execute_result"
    }
   ],
   "source": [
    "name + \"10\""
   ]
  },
  {
   "cell_type": "code",
   "execution_count": 30,
   "id": "c39b0dfa-5520-404d-8e53-36039fa192dc",
   "metadata": {},
   "outputs": [
    {
     "data": {
      "text/plain": [
       "'Lovelace 10'"
      ]
     },
     "execution_count": 30,
     "metadata": {},
     "output_type": "execute_result"
    }
   ],
   "source": [
    "name + \" \" + \"10\""
   ]
  },
  {
   "cell_type": "code",
   "execution_count": 31,
   "id": "1e7fbeef-2e38-4247-b5c5-5619b217fb62",
   "metadata": {},
   "outputs": [
    {
     "data": {
      "text/plain": [
       "'Lovelace Lovelace Lovelace Lovelace Lovelace Lovelace Lovelace Lovelace Lovelace Lovelace '"
      ]
     },
     "execution_count": 31,
     "metadata": {},
     "output_type": "execute_result"
    }
   ],
   "source": [
    "(name + \" \") * 10"
   ]
  },
  {
   "cell_type": "code",
   "execution_count": 32,
   "id": "d003103c-509b-4f69-970b-761c69095218",
   "metadata": {},
   "outputs": [
    {
     "data": {
      "text/plain": [
       "0.046216216216216216"
      ]
     },
     "execution_count": 32,
     "metadata": {},
     "output_type": "execute_result"
    }
   ],
   "source": [
    "# Division\n",
    "size / age"
   ]
  },
  {
   "cell_type": "code",
   "execution_count": 33,
   "id": "8193612f-90da-45ac-92b3-6aad1f8a9520",
   "metadata": {},
   "outputs": [
    {
     "data": {
      "text/plain": [
       "3.0"
      ]
     },
     "execution_count": 33,
     "metadata": {},
     "output_type": "execute_result"
    }
   ],
   "source": [
    "15 / 5"
   ]
  },
  {
   "cell_type": "code",
   "execution_count": 34,
   "id": "a3e7a6db-2f60-4fd3-8621-98b948cff393",
   "metadata": {},
   "outputs": [
    {
     "data": {
      "text/plain": [
       "float"
      ]
     },
     "execution_count": 34,
     "metadata": {},
     "output_type": "execute_result"
    }
   ],
   "source": [
    "type(size)"
   ]
  },
  {
   "cell_type": "code",
   "execution_count": 35,
   "id": "905f822d-cd34-4d99-9d14-fed5d54c7e87",
   "metadata": {},
   "outputs": [],
   "source": [
    "articles = \"50\""
   ]
  },
  {
   "cell_type": "code",
   "execution_count": 36,
   "id": "a630155a-2a83-4dd0-95f7-ab601d0fc2c2",
   "metadata": {},
   "outputs": [
    {
     "ename": "TypeError",
     "evalue": "unsupported operand type(s) for /: 'str' and 'int'",
     "output_type": "error",
     "traceback": [
      "\u001b[0;31m---------------------------------------------------------------------------\u001b[0m",
      "\u001b[0;31mTypeError\u001b[0m                                 Traceback (most recent call last)",
      "Cell \u001b[0;32mIn[36], line 1\u001b[0m\n\u001b[0;32m----> 1\u001b[0m articles \u001b[38;5;241m/\u001b[39m \u001b[38;5;241m10\u001b[39m\n",
      "\u001b[0;31mTypeError\u001b[0m: unsupported operand type(s) for /: 'str' and 'int'"
     ]
    }
   ],
   "source": [
    "articles / 10"
   ]
  },
  {
   "cell_type": "code",
   "execution_count": 38,
   "id": "464b9125-3c87-4d9b-940d-573d9dbe1b42",
   "metadata": {},
   "outputs": [],
   "source": [
    "# String mit int() erst in Integer umwandeln.\n",
    "int(articles) / 10\n",
    "intart = int(articles) / 10"
   ]
  },
  {
   "cell_type": "markdown",
   "id": "2b36a3b8-7cba-4db8-b788-f0186044288c",
   "metadata": {},
   "source": [
    "## Funktionen und Methoden nutzen"
   ]
  },
  {
   "cell_type": "code",
   "execution_count": 39,
   "id": "d6412627-4b20-45ed-945f-30c7d31da2f2",
   "metadata": {},
   "outputs": [
    {
     "data": {
      "text/plain": [
       "8"
      ]
     },
     "execution_count": 39,
     "metadata": {},
     "output_type": "execute_result"
    }
   ],
   "source": [
    "# Funktion:\n",
    "len(name)"
   ]
  },
  {
   "cell_type": "code",
   "execution_count": 40,
   "id": "0ffa7744-d6ec-4c49-bf5a-e659d0fa448b",
   "metadata": {},
   "outputs": [
    {
     "data": {
      "text/plain": [
       "'LOVELACE'"
      ]
     },
     "execution_count": 40,
     "metadata": {},
     "output_type": "execute_result"
    }
   ],
   "source": [
    "# Methode\n",
    "name.upper()"
   ]
  },
  {
   "cell_type": "code",
   "execution_count": 41,
   "id": "3194be07-6dc7-45a9-8933-fb3dd49b7bb3",
   "metadata": {},
   "outputs": [
    {
     "data": {
      "text/plain": [
       "'Lovelace'"
      ]
     },
     "execution_count": 41,
     "metadata": {},
     "output_type": "execute_result"
    }
   ],
   "source": [
    "# Methode wird temporär angewandt\n",
    "name"
   ]
  },
  {
   "cell_type": "code",
   "execution_count": 42,
   "id": "2607d7f5-deb3-445c-9c30-e5ddbc37b0e7",
   "metadata": {},
   "outputs": [
    {
     "data": {
      "text/plain": [
       "2"
      ]
     },
     "execution_count": 42,
     "metadata": {},
     "output_type": "execute_result"
    }
   ],
   "source": [
    "# Methode mit Argument\n",
    "name.count(\"e\")"
   ]
  },
  {
   "cell_type": "code",
   "execution_count": 43,
   "id": "ac408f6a-7354-422a-962c-dd7935ee6d4e",
   "metadata": {},
   "outputs": [
    {
     "data": {
      "text/plain": [
       "'Love is everywhere'"
      ]
     },
     "execution_count": 43,
     "metadata": {},
     "output_type": "execute_result"
    }
   ],
   "source": [
    "# Methode mit zwei Argumenten\n",
    "name.replace(\"lace\", \" is everywhere\")"
   ]
  },
  {
   "cell_type": "markdown",
   "id": "8235a8d3-e168-4237-9519-054cda6a1cc7",
   "metadata": {},
   "source": [
    "# Übung: Methoden auf Zeichenketten\n",
    "Du hast den folgenden Satz:\n",
    "\n",
    "prase = \"python ist toll\"\n",
    "\n",
    "        - Schreibe den Satz komplett groß\n",
    "        - Ersetze \"python\" durch \"Programmieren\"\n",
    "        - Gib das Ergebnis aus"
   ]
  },
  {
   "cell_type": "code",
   "execution_count": 69,
   "id": "aeb924f6-bf4e-40e4-a0d4-783f978af42f",
   "metadata": {},
   "outputs": [],
   "source": [
    "phrase = \"Python ist toll\""
   ]
  },
  {
   "cell_type": "code",
   "execution_count": 79,
   "id": "5f9f8470-f6ac-4d4f-a996-5a77b223daf8",
   "metadata": {},
   "outputs": [
    {
     "name": "stdout",
     "output_type": "stream",
     "text": [
      "PROGRAMMIEREN IST TOLL\n"
     ]
    }
   ],
   "source": [
    "phrase = phrase.upper().replace(\"PYTHON\", \"Programmieren\")\n",
    "print(phrase)"
   ]
  },
  {
   "cell_type": "markdown",
   "id": "9bb09570-27b8-4ef4-adc1-0d6a827a379e",
   "metadata": {},
   "source": [
    "### Listen und Dictonaries"
   ]
  },
  {
   "cell_type": "code",
   "execution_count": 80,
   "id": "0ae775c9-30fa-4411-b8cf-8d3b62f78183",
   "metadata": {},
   "outputs": [],
   "source": [
    "# Liste wird definiert durch...\n",
    "person = [\"Lovelace\", \"Darwin\", \"Noether\", \"Hawking\"]"
   ]
  },
  {
   "cell_type": "code",
   "execution_count": 81,
   "id": "7004b862-049e-46d0-8f03-a594a22e869b",
   "metadata": {},
   "outputs": [
    {
     "data": {
      "text/plain": [
       "'Lovelace'"
      ]
     },
     "execution_count": 81,
     "metadata": {},
     "output_type": "execute_result"
    }
   ],
   "source": [
    "person[0]"
   ]
  },
  {
   "cell_type": "code",
   "execution_count": 82,
   "id": "9f102215-2d4b-4858-bbc1-dbf09357b81e",
   "metadata": {},
   "outputs": [
    {
     "data": {
      "text/plain": [
       "'Noether'"
      ]
     },
     "execution_count": 82,
     "metadata": {},
     "output_type": "execute_result"
    }
   ],
   "source": [
    "person[2]"
   ]
  },
  {
   "cell_type": "code",
   "execution_count": 83,
   "id": "a73c03f7-5eab-44c7-ac32-7228fee507ac",
   "metadata": {},
   "outputs": [
    {
     "data": {
      "text/plain": [
       "'Hawking'"
      ]
     },
     "execution_count": 83,
     "metadata": {},
     "output_type": "execute_result"
    }
   ],
   "source": [
    "person[-1]"
   ]
  },
  {
   "cell_type": "code",
   "execution_count": null,
   "id": "e789db24-5d86-4857-b920-54ce14f6c45c",
   "metadata": {},
   "outputs": [],
   "source": []
  },
  {
   "cell_type": "code",
   "execution_count": null,
   "id": "12eb1006-6076-4757-ac2c-a202c0c487e6",
   "metadata": {},
   "outputs": [],
   "source": []
  },
  {
   "cell_type": "code",
   "execution_count": null,
   "id": "aeea7fec-a19b-4d58-9d1e-487b4480646e",
   "metadata": {},
   "outputs": [],
   "source": []
  },
  {
   "cell_type": "code",
   "execution_count": null,
   "id": "6926ff43-1d85-415e-8ddf-7a6507adfe7c",
   "metadata": {},
   "outputs": [],
   "source": []
  },
  {
   "cell_type": "code",
   "execution_count": null,
   "id": "9cc1e3fe-bb5c-4299-8db7-151332be3b16",
   "metadata": {},
   "outputs": [],
   "source": []
  },
  {
   "cell_type": "code",
   "execution_count": null,
   "id": "fbedbb5c-fac0-4d3b-9ea0-2f32281c893b",
   "metadata": {},
   "outputs": [],
   "source": []
  },
  {
   "cell_type": "code",
   "execution_count": null,
   "id": "7c4e1855-d01a-474b-8fae-4325bf5ed654",
   "metadata": {},
   "outputs": [],
   "source": []
  },
  {
   "cell_type": "code",
   "execution_count": null,
   "id": "5325442c-9dbc-45b5-ae94-65ed6f36fdf8",
   "metadata": {},
   "outputs": [],
   "source": []
  }
 ],
 "metadata": {
  "kernelspec": {
   "display_name": "Python 3 (ipykernel)",
   "language": "python",
   "name": "python3"
  },
  "language_info": {
   "codemirror_mode": {
    "name": "ipython",
    "version": 3
   },
   "file_extension": ".py",
   "mimetype": "text/x-python",
   "name": "python",
   "nbconvert_exporter": "python",
   "pygments_lexer": "ipython3",
   "version": "3.12.7"
  }
 },
 "nbformat": 4,
 "nbformat_minor": 5
}
